{
  "cells": [
    {
      "cell_type": "markdown",
      "metadata": {
        "id": "view-in-github",
        "colab_type": "text"
      },
      "source": [
        "<a href=\"https://colab.research.google.com/github/YourUsername/YourRepo/blob/main/recover_grade_colab_debug.ipynb\" target=\"_parent\"><img src=\"https://colab.research.google.com/assets/colab-badge.svg\" alt=\"Open In Colab\"/></a>"
      ]
    },
    {
      "cell_type": "markdown",
      "metadata": {
        "id": "intro",
        "colab_type": "text"
      },
      "source": [
        "# Recovering Alice's Grade (with Debugging)\n",
        "\n",
        "This notebook attempts to recover Alice's grade from an encrypted ciphertext using her RSA public key. The grade is assumed to be a small integer (0–100), and the encryption is done without padding, allowing a brute-force approach. Debugging output is included to diagnose issues.\n",
        "\n",
        "## Prerequisites\n",
        "- The `cryptography` library is required.\n",
        "- The public key is provided in PEM format.\n",
        "- The ciphertext is provided in hexadecimal format."
      ]
    },
    {
      "cell_type": "code",
      "metadata": {
        "id": "install_dependencies",
        "colab": {}
      },
      "source": [
        "!pip install cryptography"
      ],
      "execution_count": null,
      "outputs": []
    },
    {
      "cell_type": "code",
      "metadata": {
        "id": "main_code",
        "colab": {}
      },
      "source": [
        "import base64\n",
        "import binascii\n",
        "from cryptography.hazmat.primitives.asymmetric import rsa, padding\n",
        "from cryptography.hazmat.primitives import serialization\n",
        "\n",
        "# Alice's public key in PEM format\n",
        "public_key_pem = \"\"\"-----BEGIN PUBLIC KEY-----\n",
        "MIGfMA0GCSqGSIb3DQEBAQUAA4GNADCBiQKBgQDKClTqiJTUa++IPogThEsiNR4J\n",
        "FpmV12jbfYvEc74ZtyCxGYpt3UcwaYbBoVgBpFepBRnwjJEPX8jxip7yfxr/vqYv\n",
        "MrQ4LJggKRKUDrWFwuI+lNmxsVz+E4now0v1E/lHa5p8PxdqRBdm1xw4yXx48Xft\n",
        "rnnCa8w19lq20OSNPwIDAQAB\n",
        "-----END PUBLIC KEY-----\"\"\"\n",
        "\n",
        "# Ciphertext (hex representation of encrypted grade)\n",
        "ciphertext_hex = \"9A60E4CE8D70B2A12BB2422D73571A445159955A844AE5EA9995870AA4819BA434835C88AB4F1FBD17712DC525613382FF6A9621CB9BC0F82191EB60AAA369FC061A614C18F81FA9906FB168E0E8B0A0EA5C3A9E6E1566820E4831CAA9BDF0FB048F8095DE65DB6D9FA79AFF7D40529E512ADB91231D176944064200AEC070A1\"\n",
        "\n",
        "try:\n",
        "    # Load the public key\n",
        "    public_key = serialization.load_pem_public_key(public_key_pem.encode())\n",
        "    print(\"Public key loaded successfully.\")\n",
        "\n",
        "    # Extract modulus and exponent for debugging\n",
        "    public_numbers = public_key.public_numbers()\n",
        "    print(f\"Public key modulus (n): {public_numbers.n}\")\n",
        "    print(f\"Public key exponent (e): {public_numbers.e}\")\n",
        "\n",
        "    # Convert hex ciphertext to bytes\n",
        "    ciphertext = binascii.unhexlify(ciphertext_hex)\n",
        "    print(f\"Ciphertext length: {len(ciphertext)} bytes\")\n",
        "    print(f\"Ciphertext (first 10 bytes): {ciphertext[:10].hex()}\")\n",
        "\n",
        "    # Function to encrypt a number using the public key (no padding)\n",
        "    def encrypt_no_padding(number, public_key):\n",
        "        # Convert number to bytes (big-endian)\n",
        "        number_bytes = number.to_bytes((number.bit_length() + 7) // 8 or 1, byteorder='big')\n",
        "        print(f\"Trying grade {number}, plaintext bytes: {number_bytes.hex()}\")\n",
        "        # Perform raw RSA encryption: c = m^e mod n\n",
        "        encrypted = public_key.encrypt(\n",
        "            number_bytes,\n",
        "            padding=None\n",
        "        )\n",
        "        return encrypted\n",
        "\n",
        "    # Brute-force possible grades (0 to 100)\n",
        "    found = False\n",
        "    for grade in range(101):\n",
        "        try:\n",
        "            # Encrypt the grade\n",
        "            encrypted_grade = encrypt_no_padding(grade, public_key)\n",
        "            print(f\"Encrypted grade {grade} length: {len(encrypted_grade)} bytes\")\n",
        "            print(f\"Encrypted grade {grade} (first 10 bytes): {encrypted_grade[:10].hex()}\")\n",
        "            # Compare with the given ciphertext\n",
        "            if encrypted_grade == ciphertext:\n",
        "                print(f\"Found Alice's grade: {grade}\")\n",
        "                found = True\n",
        "                break\n",
        "        except Exception as e:\n",
        "            print(f\"Error encrypting grade {grade}: {str(e)}\")\n",
        "            continue\n",
        "\n",
        "    if not found:\n",
        "        print(\"No matching grade found in range 0–100.\")\n",
        "\n",
        "    # Additional test for grade 87 specifically\n",
        "    print(\"\\nTesting grade 87 explicitly:\")\n",
        "    try:\n",
        "        encrypted_87 = encrypt_no_padding(87, public_key)\n",
        "        print(f\"Encrypted grade 87 (first 10 bytes): {encrypted_87[:10].hex()}\")\n",
        "        print(f\"Target ciphertext (first 10 bytes): {ciphertext[:10].hex()}\")\n",
        "        if encrypted_87 == ciphertext:\n",
        "            print(\"Confirmed: Grade 87 matches the ciphertext.\")\n",
        "        else:\n",
        "            print(\"Grade 87 does not match the ciphertext.\")\n",
        "    except Exception as e:\n",
        "        print(f\"Error encrypting grade 87: {str(e)}\")\n",
        "\n",
        "except Exception as e:\n",
        "    print(f\"Error in setup: {str(e)}\")"
      ],
      "execution_count": null,
      "outputs": []
    },
    {
      "cell_type": "markdown",
      "metadata": {
        "id": "explanation",
        "colab_type": "text"
      },
      "source": [
        "## How It Works\n",
        "\n",
        "- **Public Key**: Loads Alice’s RSA public key from PEM format and prints the modulus and exponent for verification.\n",
        "- **Ciphertext**: Converts the hex ciphertext to bytes and displays its length and first 10 bytes for debugging.\n",
        "- **Brute-Force**: Tries grades 0–100, encrypting each with the public key without padding. For each grade, it prints the plaintext bytes and the encrypted result’s length and first 10 bytes.\n",
        "- **No Padding**: Uses `padding=None` for raw RSA encryption (c = m^e mod n), matching the problem’s context.\n",
        "- **Debugging**: Includes error handling and logs to identify issues. Tests grade 87 explicitly to confirm the expected result.\n",
        "\n",
        "## Troubleshooting\n",
        "If no match is found:\n",
        "- Check the debugging output for errors during encryption.\n",
        "- Compare the ciphertext length with the encrypted grade lengths (should match, typically 128 bytes for a 1024-bit key).\n",
        "- Verify the `cryptography` library version (`!pip show cryptography`).\n",
        "- Ensure the ciphertext hex is exactly as provided.\n",
        "- If the plaintext was encoded differently (e.g., as a string '87'), modify the `encrypt_no_padding` function to test alternative encodings."
      ]
    }
  ],
  "metadata": {
    "colab": {
      "name": "recover_grade_colab_debug.ipynb",
      "provenance": []
    },
    "kernelspec": {
      "display_name": "Python 3",
      "name": "python3"
    }
  },
  "nbformat": 4,
  "nbformat_minor": 0
}
